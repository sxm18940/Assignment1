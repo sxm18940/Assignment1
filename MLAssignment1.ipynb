{
  "nbformat": 4,
  "nbformat_minor": 0,
  "metadata": {
    "colab": {
      "provenance": [],
      "authorship_tag": "ABX9TyMRwpj+Dy+zRN8xWYWoHeOv",
      "include_colab_link": true
    },
    "kernelspec": {
      "name": "python3",
      "display_name": "Python 3"
    },
    "language_info": {
      "name": "python"
    }
  },
  "cells": [
    {
      "cell_type": "markdown",
      "metadata": {
        "id": "view-in-github",
        "colab_type": "text"
      },
      "source": [
        "<a href=\"https://colab.research.google.com/github/sxm18940/Assignment1/blob/main/MLAssignment1.ipynb\" target=\"_parent\"><img src=\"https://colab.research.google.com/assets/colab-badge.svg\" alt=\"Open In Colab\"/></a>"
      ]
    },
    {
      "cell_type": "code",
      "source": [
        "import statistics\n",
        "ages = [19, 22, 19, 24, 20, 25, 26, 24, 25, 24]\n",
        "ages.sort() # using sort() to get the sorted list \n",
        "#1\n",
        "print(\"sorted ages:\", ages) \n",
        "print(\"min\",min(ages)) # using min() to get the minimum value of the list\n",
        "print(\"max\",max(ages)) # using max() to get the maximum value of the list\n",
        "#2\n",
        "ages.append(min(ages)) # using append() to add the value to the list\n",
        "ages.append(max(ages))\n",
        "print(\"after appending min and max\",ages)\n",
        "#3\n",
        "print(\"Median of ages is : % s \"\n",
        "        % (statistics.median(ages))) # using Median() to get the median value of the list\n",
        "#4\n",
        "sum=0\n",
        "for i in range(len(ages)):\n",
        "    sum=sum+ages[i] # Using For loop to fing the sum of all the values in the list \n",
        "print(\"average of ages is: \",sum/len(ages)) # Finding the average using the sum and length of the list\n",
        "#5\n",
        "print(\"range of ages is : \", max(ages)-min(ages)) "
      ],
      "metadata": {
        "colab": {
          "base_uri": "https://localhost:8080/"
        },
        "id": "vuLj87W-vM0U",
        "outputId": "ee6b1396-7881-4d80-9374-5c30ea6a3666"
      },
      "execution_count": 37,
      "outputs": [
        {
          "output_type": "stream",
          "name": "stdout",
          "text": [
            "sorted ages: [19, 19, 20, 22, 24, 24, 24, 25, 25, 26]\n",
            "min 19\n",
            "max 26\n",
            "after appending min and max [19, 19, 20, 22, 24, 24, 24, 25, 25, 26, 19, 26]\n",
            "Median of ages is : 24.0 \n",
            "average of ages is:  22.75\n",
            "range of ages is :  7\n"
          ]
        }
      ]
    },
    {
      "cell_type": "code",
      "source": [
        "#1\n",
        "dog= {}\n",
        "#2\n",
        "dog['Name'] = 'John'\n",
        "dog['color'] = 'white'\n",
        "dog['Breed'] = 'Shizu'\n",
        "dog['Legs'] = 4\n",
        "dog['age'] = 1\n",
        "#3\n",
        "student_dictionary={\n",
        "    'First_Name':'Ash',\n",
        "    'Last_Name':'One',\n",
        "    'Gender':'F',\n",
        "    'age':25,\n",
        "    'Maritial_Status':'Single',\n",
        "    'Skills':['JavaScript', 'React', 'Node', 'MongoDB', 'Python'],\n",
        "    'Country': 'Hyd' ,\n",
        "    'City' : 'India',\n",
        "    'address' : {\n",
        "        'street':'Space street',\n",
        "        'zipcode':'02210'\n",
        "    }\n",
        "   \n",
        "}\n",
        "#4\n",
        "print(len(student_dictionary)) #Get the length of the student dictionary\n",
        "#5\n",
        "print(student_dictionary['Skills']) # Get the list of skills\n",
        "print(type(student_dictionary['Skills']))#Get the value of skills and check the data type using type()\n",
        "#6\n",
        "student_dictionary['Skills'].append('HTML')\n",
        "#7\n",
        "keys = student_dictionary.keys()\n",
        "print(keys)\n",
        "#8\n",
        "values = student_dictionary.values()\n",
        "print(values)"
      ],
      "metadata": {
        "colab": {
          "base_uri": "https://localhost:8080/"
        },
        "id": "4Hb8dW5I2XRT",
        "outputId": "f644b4b9-6c7a-4991-92ba-06b110111d71"
      },
      "execution_count": 39,
      "outputs": [
        {
          "output_type": "stream",
          "name": "stdout",
          "text": [
            "9\n",
            "['JavaScript', 'React', 'Node', 'MongoDB', 'Python']\n",
            "<class 'list'>\n",
            "dict_keys(['First_Name', 'Last_Name', 'Gender', 'age', 'Maritial_Status', 'Skills', 'Country', 'City', 'address'])\n",
            "dict_values(['Ash', 'One', 'F', 25, 'Single', ['JavaScript', 'React', 'Node', 'MongoDB', 'Python', 'HTML'], 'Hyd', 'India', {'street': 'Space street', 'zipcode': '02210'}])\n"
          ]
        }
      ]
    },
    {
      "cell_type": "code",
      "source": [
        "#1\n",
        "sister = (\"Lavanya\",\"Chaitanya\")\n",
        "brother = (\"Jashwanth\",\"Goutham\")\n",
        "#2\n",
        "siblings = sister + brother\n",
        "print(sister)\n",
        "print(brother)\n",
        "print(siblings)\n",
        "#3\n",
        "print(len(siblings))\n",
        "#4\n",
        "parent_tuple = (\"Ramesh\",\"Lakshmi\")\n",
        "siblings = siblings + parent_tuple #modifying siblings \n",
        "family_members = siblings\n",
        "print(family_members)"
      ],
      "metadata": {
        "colab": {
          "base_uri": "https://localhost:8080/"
        },
        "id": "eBZEydoW4Ldu",
        "outputId": "2152dfe4-6441-4bbf-e9fe-fcbd7d9941f2"
      },
      "execution_count": 15,
      "outputs": [
        {
          "output_type": "stream",
          "name": "stdout",
          "text": [
            "('Lavanya', 'Chaitanya')\n",
            "('Jashwanth', 'Goutham')\n",
            "('Lavanya', 'Chaitanya', 'Jashwanth', 'Goutham')\n",
            "4\n",
            "('Lavanya', 'Chaitanya', 'Jashwanth', 'Goutham', 'Ramesh', 'Lakshmi')\n"
          ]
        }
      ]
    },
    {
      "cell_type": "code",
      "source": [
        "it_companies = {'Facebook', 'Google', 'Microsoft', 'Apple', 'IBM', 'Oracle', 'Amazon'}\n",
        "A = {19, 22, 24, 20, 25, 26}\n",
        "B = {19, 22, 20, 25, 26, 24, 28, 27}\n",
        "age = [22, 19, 24, 25, 26, 24, 25, 24]\n",
        "#1\n",
        "print(\"length of set it companies\",len(it_companies)) # Getting the length using len()\n",
        "#2\n",
        "it_companies.add(\"Twitter\") # adding one more company by using add() since append dosent work as it is a set\n",
        "#3\n",
        "up_ele=[\"softsol\",\"bringe\",\"Netflix\",\"Sony\"]\n",
        "it_companies.update(up_ele) # adding mutliple comapanies to the it_comapany set using update()\n",
        "#4\n",
        "it_companies.remove('Apple') # using remove() to delete a value from the set\n",
        "#5\n",
        "#Difference between remove and discard: The remove() method will result in an error if the particular item does not exist whereas the discard() method will not\")\n",
        "#6\n",
        "print(\"Union: \", A | B)\n",
        "#7\n",
        "print(\"Intersection: \", A & B)\n",
        "#8\n",
        "print(\"A is subset of B:\", A.issubset(B))\n",
        "#9\n",
        "Disjoint = A.isdisjoint(B)\n",
        "print(\"Are A and B disjoint sets: \",Disjoint)\n",
        "#10\n",
        "joined_a = A.union(B) # Joining A with B\n",
        "joined_b = B.union(A) # JOining B with A\n",
        "#11\n",
        "print(\"Symmetric difference :\", A ^ B)\n",
        "#12\n",
        "A.clear()\n",
        "B.clear()\n",
        "#13\n",
        "Ages_Set = set(age)\n",
        "print(Ages_Set)\n",
        "print(\"The length of list is :\",len(age),\"and set is :\",len(Ages_Set))"
      ],
      "metadata": {
        "colab": {
          "base_uri": "https://localhost:8080/"
        },
        "id": "R_EkbV1b5Q8d",
        "outputId": "52fb72d1-7e3c-450c-db4d-895f28b8bc9e"
      },
      "execution_count": 40,
      "outputs": [
        {
          "output_type": "stream",
          "name": "stdout",
          "text": [
            "length of set it companies 7\n",
            "Union:  {19, 20, 22, 24, 25, 26, 27, 28}\n",
            "Intersection:  {19, 20, 22, 24, 25, 26}\n",
            "A is subset of B: True\n",
            "Are A and B disjoint sets:  False\n",
            "Symmetric difference : {27, 28}\n",
            "{19, 22, 24, 25, 26}\n",
            "The length of list is : 8 and set is : 5\n"
          ]
        }
      ]
    },
    {
      "cell_type": "code",
      "source": [
        "r=30\n",
        "#1\n",
        "_area_of_circle_=3.14*(r**2) # Calculating Area \n",
        "#2\n",
        "_circum_of_circle_=2*3.14*r # Calculating Circumference\n",
        "print(\"area is\",_area_of_circle_)\n",
        "print(\"circumference is\",_circum_of_circle_)\n",
        "#3\n",
        "user_radius=int(input(\"enter the radius\"))\n",
        "area=3.14*(user_radius**2)\n",
        "print(\"area of circle with radius given by user is\",area)"
      ],
      "metadata": {
        "colab": {
          "base_uri": "https://localhost:8080/"
        },
        "id": "3e_nwcLzGTtM",
        "outputId": "01f01b7d-7231-47e1-e5e3-f482b8fd8fb3"
      },
      "execution_count": 30,
      "outputs": [
        {
          "output_type": "stream",
          "name": "stdout",
          "text": [
            "area is 2826.0\n",
            "circumference is 188.4\n",
            "enter the radius22\n",
            "area of circle with radius given by user is 1519.76\n"
          ]
        }
      ]
    },
    {
      "cell_type": "code",
      "source": [
        "sentence = \"I am a teacher and I love to inspire and teach people\"\n",
        "\n",
        "#splitting the string for getting the individual elements\n",
        "Split = sentence.split(\" \")\n",
        "split_set = set(Split)\n",
        "print(split_set)\n",
        "print(len(split_set))"
      ],
      "metadata": {
        "colab": {
          "base_uri": "https://localhost:8080/"
        },
        "id": "xKscIrhVGyFG",
        "outputId": "488ce8ee-4992-4456-d6d8-c76495419c3e"
      },
      "execution_count": 43,
      "outputs": [
        {
          "output_type": "stream",
          "name": "stdout",
          "text": [
            "{'I', 'love', 'people', 'inspire', 'and', 'teacher', 'a', 'to', 'am', 'teach'}\n",
            "10\n"
          ]
        }
      ]
    },
    {
      "cell_type": "code",
      "source": [
        "print('Name\\tAge\\tCountry\\tCity\\nAsabench\\t250\\tFinland\\tHelsinki')\n"
      ],
      "metadata": {
        "colab": {
          "base_uri": "https://localhost:8080/"
        },
        "id": "AXe8MMvoILsO",
        "outputId": "6ffdca7c-7871-463e-ceb8-2432ec560421"
      },
      "execution_count": 32,
      "outputs": [
        {
          "output_type": "stream",
          "name": "stdout",
          "text": [
            "Name\tAge\tCountry\tCity\n",
            "Asabench\t250\tFinland\tHelsinki\n"
          ]
        }
      ]
    },
    {
      "cell_type": "code",
      "source": [
        "r1=10\n",
        "area1=3.14*(r1**2)\n",
        "txt=\"The area of a circle with radius {} is {} meters square.\".format(r1,area1)\n",
        "print(txt)"
      ],
      "metadata": {
        "colab": {
          "base_uri": "https://localhost:8080/"
        },
        "id": "34VpUtTRIUl-",
        "outputId": "b6495db2-9b17-49c5-f425-5aafe61eddee"
      },
      "execution_count": 33,
      "outputs": [
        {
          "output_type": "stream",
          "name": "stdout",
          "text": [
            "The area of a circle with radius 10 is 314.0 meters square.\n"
          ]
        }
      ]
    },
    {
      "cell_type": "code",
      "source": [
        "lb1=[]\n",
        "kg1=[]\n",
        "n = int(input(\"Enter number of weights in lbs : \"))\n",
        "# iterating till the n\n",
        "for i in range(0, n):\n",
        "    tmp = int(input())\n",
        "    lb1.append(tmp) # pushing the user input to the list lb1\n",
        "for i in range(0, n):\n",
        "    t1=(0.453592)*lb1[i]\n",
        "    kg1.append(t1) # Converting the lbs to kgs and pushing to kg1 list\n",
        "print(\"lbs\",lb1)\n",
        "print(\"kgs\",kg1) "
      ],
      "metadata": {
        "colab": {
          "base_uri": "https://localhost:8080/"
        },
        "id": "_2jkq8gGIkqF",
        "outputId": "63133702-2efb-4ebf-84c0-bfb6c62f04e4"
      },
      "execution_count": 34,
      "outputs": [
        {
          "output_type": "stream",
          "name": "stdout",
          "text": [
            "Enter number of weights in lbs : 2\n",
            "122\n",
            "133\n",
            "lbs [122, 133]\n",
            "kgs [55.338224, 60.327736]\n"
          ]
        }
      ]
    }
  ]
}